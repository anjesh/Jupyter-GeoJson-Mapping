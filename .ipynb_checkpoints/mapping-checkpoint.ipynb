{
 "cells": [
  {
   "cell_type": "code",
   "execution_count": 6,
   "metadata": {
    "collapsed": true
   },
   "outputs": [],
   "source": [
    "import json"
   ]
  },
  {
   "cell_type": "code",
   "execution_count": 7,
   "metadata": {
    "collapsed": false
   },
   "outputs": [],
   "source": [
    "with open('zones.json') as f:\n",
    "    zones = json.load(f)"
   ]
  },
  {
   "cell_type": "code",
   "execution_count": 20,
   "metadata": {
    "collapsed": false
   },
   "outputs": [
    {
     "name": "stdout",
     "output_type": "stream",
     "text": [
      "{u'Region': None, u'Zone': u'Dhaualagiri'}\n",
      "[83.99726104736328, 29.316751480102823]\n",
      "83.9972610474\n",
      "29.3167514801\n",
      "{u'Region': u'Central', u'Zone': u'Bagmati'}\n",
      "[83.99726104736328, 29.316751480102823]\n",
      "83.9972610474\n",
      "29.3167514801\n",
      "{u'Region': u'Central', u'Zone': u'Janakpur'}\n",
      "[83.99726104736328, 29.316751480102823]\n",
      "83.9972610474\n",
      "29.3167514801\n",
      "{u'Region': u'Central', u'Zone': u'Narayani'}\n",
      "[83.99726104736328, 29.316751480102823]\n",
      "83.9972610474\n",
      "29.3167514801\n",
      "{u'Region': u'East', u'Zone': u'Koshi'}\n",
      "[83.99726104736328, 29.316751480102823]\n",
      "83.9972610474\n",
      "29.3167514801\n",
      "{u'Region': u'East', u'Zone': u'Mechi'}\n",
      "[83.99726104736328, 29.316751480102823]\n",
      "83.9972610474\n",
      "29.3167514801\n",
      "{u'Region': u'East', u'Zone': u'Sagarmatha'}\n",
      "[83.99726104736328, 29.316751480102823]\n",
      "83.9972610474\n",
      "29.3167514801\n",
      "{u'Region': u'Far-Western', u'Zone': u'Mahakali'}\n",
      "[83.99726104736328, 29.316751480102823]\n",
      "83.9972610474\n",
      "29.3167514801\n",
      "{u'Region': u'Far-Western', u'Zone': u'Seti'}\n",
      "[83.99726104736328, 29.316751480102823]\n",
      "83.9972610474\n",
      "29.3167514801\n",
      "{u'Region': u'Mid-Western', u'Zone': u'Bheri'}\n",
      "[83.99726104736328, 29.316751480102823]\n",
      "83.9972610474\n",
      "29.3167514801\n",
      "{u'Region': u'Mid-Western', u'Zone': u'Karnali'}\n",
      "[83.99726104736328, 29.316751480102823]\n",
      "83.9972610474\n",
      "29.3167514801\n",
      "{u'Region': u'Mid-Western', u'Zone': u'Rapti'}\n",
      "[83.99726104736328, 29.316751480102823]\n",
      "83.9972610474\n",
      "29.3167514801\n",
      "{u'Region': u'West', u'Zone': u'Gandaki'}\n",
      "[83.99726104736328, 29.316751480102823]\n",
      "83.9972610474\n",
      "29.3167514801\n",
      "{u'Region': u'West', u'Zone': u'Lumbini'}\n",
      "[83.99726104736328, 29.316751480102823]\n",
      "83.9972610474\n",
      "29.3167514801\n"
     ]
    }
   ],
   "source": [
    "from bokeh.plotting import figure, show, output_file\n",
    "zones_xs = []\n",
    "zones_ys = []\n",
    "for zone in zones['features']:\n",
    "    zones_xs = zones_xs + [[latlon[0] for latlon in zone['geometry']['coordinates'][0]]]\n",
    "    zones_ys = zones_ys + [latlon[1] for latlon in zone['geometry']['coordinates'][0]]\n",
    "    print zone['properties']\n",
    "    print zone_coordinates[0][0]\n",
    "    print zone_coordinates[0][0][0]\n",
    "    print zone_coordinates[0][0][1]\n",
    "\n"
   ]
  },
  {
   "cell_type": "code",
   "execution_count": 23,
   "metadata": {
    "collapsed": false
   },
   "outputs": [
    {
     "name": "stdout",
     "output_type": "stream",
     "text": [
      "[83.99726104736328, 84.00000000000011, 84.00000000000011, 84.00000000000011, 83.99179840087902, 83.98991394042997, 83.98994445800776, 83.99204254150385, 83.99203491210966, 83.99850463867216]\n",
      "[29.316751480102823, 29.315757751464957, 29.30629920959484, 29.30531883239746, 29.303205490112305, 29.300516128540096, 29.30048561096197, 29.2983589172365, 29.298313140869254, 29.29660224914568]\n"
     ]
    }
   ],
   "source": [
    "print zones_xs[0:10]\n",
    "print zones_ys[0:10]"
   ]
  },
  {
   "cell_type": "code",
   "execution_count": 25,
   "metadata": {
    "collapsed": true
   },
   "outputs": [],
   "source": [
    "p = figure(title=\"US Unemployment 2009\", toolbar_location=\"left\", plot_width=1100, plot_height=700)\n",
    "p.patches(zones_xs[20], zones_ys[20], fill_alpha=0.7,\n",
    "          line_color=\"#884444\", line_width=2, line_alpha=0.3)\n",
    "output_file(\"choropleth.html\", title=\"choropleth.py example\")\n",
    "show(p)"
   ]
  },
  {
   "cell_type": "code",
   "execution_count": null,
   "metadata": {
    "collapsed": true
   },
   "outputs": [],
   "source": []
  }
 ],
 "metadata": {
  "kernelspec": {
   "display_name": "Python 2",
   "language": "python",
   "name": "python2"
  },
  "language_info": {
   "codemirror_mode": {
    "name": "ipython",
    "version": 2
   },
   "file_extension": ".py",
   "mimetype": "text/x-python",
   "name": "python",
   "nbconvert_exporter": "python",
   "pygments_lexer": "ipython2",
   "version": "2.7.6"
  }
 },
 "nbformat": 4,
 "nbformat_minor": 0
}
